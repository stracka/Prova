{
 "cells": [
  {
   "cell_type": "code",
   "execution_count": 7,
   "id": "232e63c2",
   "metadata": {},
   "outputs": [
    {
     "name": "stdout",
     "output_type": "stream",
     "text": [
      "apa= 1.3259865\n"
     ]
    }
   ],
   "source": [
    "#0.43 (R=0.3) - 0.67 (R=0.6) - 0.28 (R=0)\n",
    "\n",
    "\n",
    "import numpy as np\n",
    "\n",
    "deltat = 0.005 # us\n",
    "period = 1000000 # us \n",
    "numdet = 10000 # pdms\n",
    "rate   = 200./1000000 # counts/period/pdm\n",
    "\n",
    "ngen = int(rate*period*numdet)\n",
    "\n",
    "rng = np.random.default_rng(12345)\n",
    "ids = np.arange(0,ngen)\n",
    "dees = rng.integers(0,numdet,ngen)\n",
    "tees = rng.uniform(0.,period,ngen)\n",
    "#moms = np.full(ngen,-1)\n",
    "primaries = np.column_stack((ids,dees,tees))\n",
    "pict = 0.5\n",
    "acc = 0.02\n",
    "nptog = 3.5\n",
    "pect = acc*nptog\n",
    "#print(primaries)\n",
    "\n",
    "def add_photons(phin):\n",
    "    \n",
    "    if (1):    # borel\n",
    "        icts = rng.permutation(phin)[0:rng.poisson(pict*len(phin))]        \n",
    "        ects = rng.permutation(phin)[0:rng.poisson(pect*len(phin))]\n",
    "    else:      # geometric\n",
    "        icts = rng.permutation(phin)[0:int(pict*len(phin))]        \n",
    "        ects = rng.permutation(phin)[0:int(pect*len(phin))]\n",
    "\n",
    "    ects[:,[2]] = np.full(len(ects),deltat).reshape(-1,1) + ects[:,[2]]\n",
    "    ects[:,[1]] = rng.integers(0,numdet,len(ects)).reshape(-1,1)\n",
    "\n",
    "    \n",
    "    phout = np.vstack((ects,icts))\n",
    "    if (len(phout)>0):\n",
    "        phsec = add_photons(phout)\n",
    "        phout = np.vstack((phout,phsec))\n",
    "    \n",
    "    return phout\n",
    "\n",
    "\n",
    "print('apa=',len(add_photons(primaries))/len(primaries))"
   ]
  }
 ],
 "metadata": {
  "kernelspec": {
   "display_name": "Python 3",
   "language": "python",
   "name": "python3"
  },
  "language_info": {
   "codemirror_mode": {
    "name": "ipython",
    "version": 3
   },
   "file_extension": ".py",
   "mimetype": "text/x-python",
   "name": "python",
   "nbconvert_exporter": "python",
   "pygments_lexer": "ipython3",
   "version": "3.9.6"
  }
 },
 "nbformat": 4,
 "nbformat_minor": 5
}
